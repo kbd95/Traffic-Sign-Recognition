{
 "cells": [
  {
   "cell_type": "code",
   "execution_count": 1,
   "id": "4a53889d-48fa-411e-8a84-8855215a0ba7",
   "metadata": {},
   "outputs": [],
   "source": [
    "import numpy as np \n",
    "import pandas as pd \n",
    "import matplotlib.pyplot as plt\n",
    "import cv2\n",
    "import tensorflow as tf\n",
    "from PIL import Image\n",
    "import os\n",
    "os.chdir('/home/ritesh/Documents/Computer_Vision')\n",
    "from sklearn.model_selection import train_test_split\n",
    "from keras.utils import to_categorical\n",
    "from keras.models import Sequential, load_model\n",
    "from keras.layers import Conv2D, MaxPool2D, Dense, Flatten, Dropout"
   ]
  },
  {
   "cell_type": "markdown",
   "id": "cef80847-7c29-4e71-ab05-cf300ffee885",
   "metadata": {},
   "source": [
    "# Store data,labels in the list"
   ]
  },
  {
   "cell_type": "code",
   "execution_count": 2,
   "id": "ef538c9f-b796-43ee-b67f-ed265a10ce13",
   "metadata": {},
   "outputs": [],
   "source": [
    "data = []\n",
    "labels = []\n",
    "\n",
    "#We have 43 classes\n",
    "classes = 43\n",
    "cur_path = os.getcwd()"
   ]
  },
  {
   "cell_type": "code",
   "execution_count": 3,
   "id": "acf0a0b2-d1c5-48c5-94e6-e9f5a1cb1b0b",
   "metadata": {},
   "outputs": [
    {
     "data": {
      "text/plain": [
       "'/home/ritesh/Documents/Computer_Vision'"
      ]
     },
     "execution_count": 3,
     "metadata": {},
     "output_type": "execute_result"
    }
   ],
   "source": [
    "cur_path"
   ]
  },
  {
   "cell_type": "markdown",
   "id": "68275dea-b7aa-4084-911f-93ab2ede1aa1",
   "metadata": {},
   "source": [
    "# Preprocess the Images"
   ]
  },
  {
   "cell_type": "code",
   "execution_count": 4,
   "id": "befe4af3-11e6-484e-8e52-3408bff3f559",
   "metadata": {
    "tags": []
   },
   "outputs": [],
   "source": [
    "for i in range(classes):\n",
    "    path = os.path.join(cur_path,'train',str(i))\n",
    "    images = os.listdir(path)\n",
    "\n",
    "    for a in images:\n",
    "        try:\n",
    "            image = Image.open(path + '/'+ a)\n",
    "           # print(image)\n",
    "            image = image.resize((30,30))\n",
    "            image = np.array(image)\n",
    "            data.append(image)\n",
    "            labels.append(i)\n",
    "        except Exception as e:\n",
    "            print(e)"
   ]
  },
  {
   "cell_type": "markdown",
   "id": "89c73423-9da2-4a86-b00b-538141e402f8",
   "metadata": {},
   "source": [
    "# Converting lists into numpy arrays"
   ]
  },
  {
   "cell_type": "code",
   "execution_count": 5,
   "id": "fb03543f-332d-4cb3-a2b5-018c744de4cc",
   "metadata": {},
   "outputs": [],
   "source": [
    "data = np.array(data)\n",
    "labels = np.array(labels)"
   ]
  },
  {
   "cell_type": "markdown",
   "id": "2d1cab48-da87-4346-979a-c298067a9bf2",
   "metadata": {},
   "source": [
    "# Save Labels & Data for future use"
   ]
  },
  {
   "cell_type": "code",
   "execution_count": 6,
   "id": "d7c5dcca-ac5e-4b49-805e-0c7487de2998",
   "metadata": {},
   "outputs": [],
   "source": [
    "#os.mkdir('training')\n",
    "\n",
    "np.save('/home/ritesh/Documents/Computer_Vision/training/data',data)\n",
    "np.save('/home/ritesh/Documents/Computer_Vision/training/target',labels)"
   ]
  },
  {
   "cell_type": "markdown",
   "id": "445cedab-5eee-4ecf-a457-449398c2ea40",
   "metadata": {},
   "source": [
    "# Load data & Labels"
   ]
  },
  {
   "cell_type": "code",
   "execution_count": 7,
   "id": "fc9aa423-c8ae-4257-aaac-c6cb61d9f3c7",
   "metadata": {},
   "outputs": [],
   "source": [
    "data=np.load('/home/ritesh/Documents/Computer_Vision/training/data.npy')\n",
    "labels=np.load('/home/ritesh/Documents/Computer_Vision/training/target.npy')"
   ]
  },
  {
   "cell_type": "code",
   "execution_count": 8,
   "id": "a7f442fe-53e6-4ab8-a71e-3966d10d0816",
   "metadata": {},
   "outputs": [
    {
     "data": {
      "text/plain": [
       "((39209, 30, 30, 3), (39209,))"
      ]
     },
     "execution_count": 8,
     "metadata": {},
     "output_type": "execute_result"
    }
   ],
   "source": [
    "data.shape, labels.shape"
   ]
  },
  {
   "cell_type": "markdown",
   "id": "f476e59e-b881-4df9-a0b5-112b1a4cd531",
   "metadata": {},
   "source": [
    "# Train Test split"
   ]
  },
  {
   "cell_type": "code",
   "execution_count": 9,
   "id": "ff8311f0-2216-43dc-99bc-587ec17407d8",
   "metadata": {},
   "outputs": [],
   "source": [
    "X_train, X_test, y_train, y_test = train_test_split(data,labels,test_size = 0.2,random_state=0)"
   ]
  },
  {
   "cell_type": "code",
   "execution_count": 10,
   "id": "6dc3bf9e-8355-4585-b72d-0ba7e74d4552",
   "metadata": {},
   "outputs": [
    {
     "name": "stdout",
     "output_type": "stream",
     "text": [
      "shape of X_train (31367, 30, 30, 3)\n",
      "shape of X_test (7842, 30, 30, 3)\n",
      "shape of y_train (31367,)\n",
      "shape of y_test (7842,)\n"
     ]
    }
   ],
   "source": [
    "print(\"shape of X_train\",X_train.shape)\n",
    "print(\"shape of X_test\",X_test.shape)\n",
    "print(\"shape of y_train\",y_train.shape)\n",
    "print(\"shape of y_test\",y_test.shape)"
   ]
  },
  {
   "cell_type": "markdown",
   "id": "778a293f-170d-43f4-962e-7d4e9a3b6e6a",
   "metadata": {},
   "source": [
    "# Convert labels to onehot encoding"
   ]
  },
  {
   "cell_type": "code",
   "execution_count": 11,
   "id": "70aee464-0ca4-4c88-870d-e6da38e4f739",
   "metadata": {},
   "outputs": [],
   "source": [
    "y_train = to_categorical(y_train,43)\n",
    "y_test = to_categorical(y_test,43)"
   ]
  },
  {
   "cell_type": "markdown",
   "id": "55a2861a-25f3-4b28-9e5b-6f7ffe1af192",
   "metadata": {},
   "source": [
    "# Model Building"
   ]
  },
  {
   "cell_type": "code",
   "execution_count": 12,
   "id": "dd8670e7-2049-4eef-a475-a8da7fa86e06",
   "metadata": {},
   "outputs": [],
   "source": [
    "model = Sequential()\n",
    "model.add(Conv2D(filters=32, kernel_size=(5,5), activation='relu', input_shape=X_train.shape[1:]))\n",
    "model.add(Conv2D(filters=64, kernel_size=(3, 3), activation='relu'))\n",
    "model.add(MaxPool2D(pool_size=(2, 2)))\n",
    "model.add(Dropout(rate=0.25))\n",
    "model.add(Conv2D(filters=64, kernel_size=(3, 3), activation='relu'))\n",
    "model.add(MaxPool2D(pool_size=(2, 2)))\n",
    "model.add(Dropout(rate=0.25))\n",
    "model.add(Flatten())\n",
    "model.add(Dense(256, activation='relu'))\n",
    "model.add(Dropout(rate=0.5))\n",
    "model.add(Dense(43, activation='softmax'))\n"
   ]
  },
  {
   "cell_type": "code",
   "execution_count": 13,
   "id": "d556c2cc-2090-4da9-9586-337349dc438f",
   "metadata": {},
   "outputs": [
    {
     "name": "stdout",
     "output_type": "stream",
     "text": [
      "Model: \"sequential\"\n",
      "_________________________________________________________________\n",
      "Layer (type)                 Output Shape              Param #   \n",
      "=================================================================\n",
      "conv2d (Conv2D)              (None, 26, 26, 32)        2432      \n",
      "_________________________________________________________________\n",
      "conv2d_1 (Conv2D)            (None, 24, 24, 64)        18496     \n",
      "_________________________________________________________________\n",
      "max_pooling2d (MaxPooling2D) (None, 12, 12, 64)        0         \n",
      "_________________________________________________________________\n",
      "dropout (Dropout)            (None, 12, 12, 64)        0         \n",
      "_________________________________________________________________\n",
      "conv2d_2 (Conv2D)            (None, 10, 10, 64)        36928     \n",
      "_________________________________________________________________\n",
      "max_pooling2d_1 (MaxPooling2 (None, 5, 5, 64)          0         \n",
      "_________________________________________________________________\n",
      "dropout_1 (Dropout)          (None, 5, 5, 64)          0         \n",
      "_________________________________________________________________\n",
      "flatten (Flatten)            (None, 1600)              0         \n",
      "_________________________________________________________________\n",
      "dense (Dense)                (None, 256)               409856    \n",
      "_________________________________________________________________\n",
      "dropout_2 (Dropout)          (None, 256)               0         \n",
      "_________________________________________________________________\n",
      "dense_1 (Dense)              (None, 43)                11051     \n",
      "=================================================================\n",
      "Total params: 478,763\n",
      "Trainable params: 478,763\n",
      "Non-trainable params: 0\n",
      "_________________________________________________________________\n"
     ]
    }
   ],
   "source": [
    "model.summary()"
   ]
  },
  {
   "cell_type": "code",
   "execution_count": 14,
   "id": "209f7b8f-a5df-4af8-9a7d-82cba82889b8",
   "metadata": {},
   "outputs": [],
   "source": [
    "model.compile(loss= \"categorical_crossentropy\",optimizer='adam',metrics = [\"accuracy\"])"
   ]
  },
  {
   "cell_type": "code",
   "execution_count": 15,
   "id": "4fc77c1e-4e3a-4c27-844b-6354ee9580b9",
   "metadata": {},
   "outputs": [],
   "source": [
    "from tensorflow.keras.callbacks import ModelCheckpoint\n",
    "ckpt = ModelCheckpoint(filepath = \"./training/model.weights.best.hdf5\",verbose=1,\n",
    "                       save_best_only=True)"
   ]
  },
  {
   "cell_type": "code",
   "execution_count": 16,
   "id": "07fa81a9-eb1d-416d-9442-f5add376b48d",
   "metadata": {},
   "outputs": [
    {
     "name": "stdout",
     "output_type": "stream",
     "text": [
      "Epoch 1/10\n",
      "981/981 - 71s - loss: 1.6635 - accuracy: 0.5862 - val_loss: 0.2394 - val_accuracy: 0.9404\n",
      "\n",
      "Epoch 00001: val_loss improved from inf to 0.23943, saving model to ./training/model.weights.best.hdf5\n",
      "Epoch 2/10\n",
      "981/981 - 94s - loss: 0.3785 - accuracy: 0.8876 - val_loss: 0.0810 - val_accuracy: 0.9809\n",
      "\n",
      "Epoch 00002: val_loss improved from 0.23943 to 0.08105, saving model to ./training/model.weights.best.hdf5\n",
      "Epoch 3/10\n",
      "981/981 - 48s - loss: 0.2824 - accuracy: 0.9211 - val_loss: 0.0555 - val_accuracy: 0.9837\n",
      "\n",
      "Epoch 00003: val_loss improved from 0.08105 to 0.05551, saving model to ./training/model.weights.best.hdf5\n",
      "Epoch 4/10\n",
      "981/981 - 54s - loss: 0.2146 - accuracy: 0.9416 - val_loss: 0.0490 - val_accuracy: 0.9875\n",
      "\n",
      "Epoch 00004: val_loss improved from 0.05551 to 0.04905, saving model to ./training/model.weights.best.hdf5\n",
      "Epoch 5/10\n",
      "981/981 - 48s - loss: 0.2547 - accuracy: 0.9342 - val_loss: 0.0700 - val_accuracy: 0.9796\n",
      "\n",
      "Epoch 00005: val_loss did not improve from 0.04905\n",
      "Epoch 6/10\n",
      "981/981 - 48s - loss: 0.1821 - accuracy: 0.9510 - val_loss: 0.0346 - val_accuracy: 0.9909\n",
      "\n",
      "Epoch 00006: val_loss improved from 0.04905 to 0.03456, saving model to ./training/model.weights.best.hdf5\n",
      "Epoch 7/10\n",
      "981/981 - 48s - loss: 0.2014 - accuracy: 0.9478 - val_loss: 0.0295 - val_accuracy: 0.9920\n",
      "\n",
      "Epoch 00007: val_loss improved from 0.03456 to 0.02946, saving model to ./training/model.weights.best.hdf5\n",
      "Epoch 8/10\n",
      "981/981 - 47s - loss: 0.1806 - accuracy: 0.9548 - val_loss: 0.0389 - val_accuracy: 0.9889\n",
      "\n",
      "Epoch 00008: val_loss did not improve from 0.02946\n",
      "Epoch 9/10\n",
      "981/981 - 48s - loss: 0.1900 - accuracy: 0.9546 - val_loss: 0.0345 - val_accuracy: 0.9906\n",
      "\n",
      "Epoch 00009: val_loss did not improve from 0.02946\n",
      "Epoch 10/10\n",
      "981/981 - 47s - loss: 0.2024 - accuracy: 0.9550 - val_loss: 0.0224 - val_accuracy: 0.9929\n",
      "\n",
      "Epoch 00010: val_loss improved from 0.02946 to 0.02239, saving model to ./training/model.weights.best.hdf5\n"
     ]
    }
   ],
   "source": [
    "history = model.fit(X_train,y_train,batch_size=32,epochs=10,validation_data=(X_test,y_test),callbacks=[ckpt],\n",
    "                 verbose=2,shuffle=True)"
   ]
  },
  {
   "cell_type": "markdown",
   "id": "e4c37617-e063-4671-a6ca-d768a0f9b977",
   "metadata": {},
   "source": [
    "# Accuracy Plot"
   ]
  },
  {
   "cell_type": "code",
   "execution_count": 17,
   "id": "2174450e-58d7-4768-ac77-b6f431df8de6",
   "metadata": {},
   "outputs": [
    {
     "data": {
      "image/png": "[encoded data removed]",
      "text/plain": [
       "<Figure size 432x288 with 1 Axes>"
      ]
     },
     "metadata": {
      "needs_background": "light"
     },
     "output_type": "display_data"
    }
   ],
   "source": [
    "plt.figure(0)\n",
    "plt.plot(history.history[\"accuracy\"],label=\"training accuracy\")\n",
    "plt.plot(history.history[\"val_accuracy\"],label=\"val accuracy\")\n",
    "plt.title(\"Accuracy\")\n",
    "plt.xlabel(\"epochs\")\n",
    "plt.ylabel(\"accuracy\")\n",
    "plt.legend()\n",
    "plt.show()"
   ]
  },
  {
   "cell_type": "markdown",
   "id": "cd0c592d-6b78-4273-ad1c-83e52cab7fc1",
   "metadata": {},
   "source": [
    "# Loss Plot"
   ]
  },
  {
   "cell_type": "code",
   "execution_count": 18,
   "id": "24574837-a761-4bdb-8865-a4507b913955",
   "metadata": {},
   "outputs": [
    {
     "data": {
      "image/png": "[encoded data removed]",
      "text/plain": [
       "<Figure size 432x288 with 1 Axes>"
      ]
     },
     "metadata": {
      "needs_background": "light"
     },
     "output_type": "display_data"
    }
   ],
   "source": [
    "\n",
    "plt.plot(history.history['loss'], label='training loss')\n",
    "plt.plot(history.history['val_loss'], label='val loss')\n",
    "plt.title('Loss')\n",
    "plt.xlabel('epochs')\n",
    "plt.ylabel('loss')\n",
    "plt.legend()\n",
    "plt.show()"
   ]
  },
  {
   "cell_type": "markdown",
   "id": "9b78ad21-174e-48da-8091-4d60fffbf340",
   "metadata": {},
   "source": [
    "# Load the model with best classsification accuracy on the validation set"
   ]
  },
  {
   "cell_type": "code",
   "execution_count": 19,
   "id": "14cd7315-3fed-4526-afc5-41b781f9c6eb",
   "metadata": {},
   "outputs": [],
   "source": [
    "model.load_weights(\"model.weights.best.hdf5\")"
   ]
  },
  {
   "cell_type": "code",
   "execution_count": 20,
   "id": "edb390a7-9ea9-44ca-ba5e-3842571a60f4",
   "metadata": {},
   "outputs": [
    {
     "name": "stdout",
     "output_type": "stream",
     "text": [
      "Test accuracy: 99.030858%\n"
     ]
    }
   ],
   "source": [
    "# evaluate test accuracy\n",
    "score = model.evaluate(X_test,y_test,verbose=0)\n",
    "accuracy = 100*score[1]\n",
    "\n",
    "print(\"Test accuracy: %4f%%\" %accuracy)"
   ]
  },
  {
   "cell_type": "markdown",
   "id": "c79aa09f-755a-4981-a0e0-c4ee04251913",
   "metadata": {},
   "source": [
    "# Testing on Test Data"
   ]
  },
  {
   "cell_type": "code",
   "execution_count": 21,
   "id": "ebc5ea88-1def-40e3-bed5-e4d70ce4d95b",
   "metadata": {},
   "outputs": [],
   "source": [
    "def testing(testcsv):\n",
    "    y_test = pd.read_csv(testcsv)\n",
    "    label = y_test[\"ClassId\"].values\n",
    "    imgs = y_test[\"Path\"].values\n",
    "    data=[]\n",
    "    for img in imgs:\n",
    "        image = Image.open(img)\n",
    "        image = image.resize((30,30))\n",
    "        data.append(np.array(image))\n",
    "    X_test=np.array(data)\n",
    "    return X_test,label"
   ]
  },
  {
   "cell_type": "code",
   "execution_count": 22,
   "id": "37acc64d-41bb-49bf-9a4c-79d9a84bd896",
   "metadata": {},
   "outputs": [],
   "source": [
    "X_test,label = testing('/home/ritesh/Documents/Computer_Vision/Test.csv')"
   ]
  },
  {
   "cell_type": "code",
   "execution_count": 23,
   "id": "ec3eac80-267f-4a7c-aeff-86f35fda3521",
   "metadata": {},
   "outputs": [
    {
     "name": "stderr",
     "output_type": "stream",
     "text": [
      "/home/ritesh/anaconda3/lib/python3.7/site-packages/tensorflow/python/keras/engine/sequential.py:450: UserWarning: `model.predict_classes()` is deprecated and will be removed after 2021-01-01. Please use instead:* `np.argmax(model.predict(x), axis=-1)`,   if your model does multi-class classification   (e.g. if it uses a `softmax` last-layer activation).* `(model.predict(x) > 0.5).astype(\"int32\")`,   if your model does binary classification   (e.g. if it uses a `sigmoid` last-layer activation).\n",
      "  warnings.warn('`model.predict_classes()` is deprecated and '\n"
     ]
    },
    {
     "data": {
      "text/plain": [
       "array([16,  1, 38, ..., 32,  7, 10])"
      ]
     },
     "execution_count": 23,
     "metadata": {},
     "output_type": "execute_result"
    }
   ],
   "source": [
    "Y_pred = model.predict_classes(X_test)\n",
    "Y_pred"
   ]
  },
  {
   "cell_type": "code",
   "execution_count": 24,
   "id": "d0b5bb57-3c36-4350-ab4b-3d94b7ab9503",
   "metadata": {},
   "outputs": [
    {
     "name": "stdout",
     "output_type": "stream",
     "text": [
      "0.9570863024544735\n"
     ]
    }
   ],
   "source": [
    "from sklearn.metrics import accuracy_score\n",
    "print(accuracy_score(label, Y_pred))"
   ]
  },
  {
   "cell_type": "code",
   "execution_count": 25,
   "id": "a019adfe-d616-471e-80ea-3f4cb858556e",
   "metadata": {},
   "outputs": [],
   "source": [
    "#model.save(\"./training/traffic.h5\")"
   ]
  },
  {
   "cell_type": "markdown",
   "id": "b8591458-d6f8-4599-9179-f3ca8937b686",
   "metadata": {},
   "source": [
    "# Load the Model"
   ]
  },
  {
   "cell_type": "code",
   "execution_count": 26,
   "id": "65c0eb73-a78c-4c52-b47a-de18a7690976",
   "metadata": {},
   "outputs": [],
   "source": [
    "os.chdir(\"/home/ritesh/Documents/Computer_Vision\")\n",
    "from keras.models import load_model\n",
    "model = load_model('./training/traffic.h5')"
   ]
  },
  {
   "cell_type": "code",
   "execution_count": 27,
   "id": "8a97c666-2ce5-4adc-a946-f5d5affbb06a",
   "metadata": {},
   "outputs": [],
   "source": [
    "# Classes of trafic signs\n",
    "classes = { 0:'Speed limit (20km/h)',\n",
    "            1:'Speed limit (30km/h)', \n",
    "            2:'Speed limit (50km/h)', \n",
    "            3:'Speed limit (60km/h)', \n",
    "            4:'Speed limit (70km/h)', \n",
    "            5:'Speed limit (80km/h)', \n",
    "            6:'End of speed limit (80km/h)', \n",
    "            7:'Speed limit (100km/h)', \n",
    "            8:'Speed limit (120km/h)', \n",
    "            9:'No passing', \n",
    "            10:'No passing veh over 3.5 tons', \n",
    "            11:'Right-of-way at intersection', \n",
    "            12:'Priority road', \n",
    "            13:'Yield', \n",
    "            14:'Stop', \n",
    "            15:'No vehicles', \n",
    "            16:'Veh > 3.5 tons prohibited', \n",
    "            17:'No entry', \n",
    "            18:'General caution', \n",
    "            19:'Dangerous curve left', \n",
    "            20:'Dangerous curve right', \n",
    "            21:'Double curve', \n",
    "            22:'Bumpy road', \n",
    "            23:'Slippery road', \n",
    "            24:'Road narrows on the right', \n",
    "            25:'Road work', \n",
    "            26:'Traffic signals', \n",
    "            27:'Pedestrians', \n",
    "            28:'Children crossing', \n",
    "            29:'Bicycles crossing', \n",
    "            30:'Beware of ice/snow',\n",
    "            31:'Wild animals crossing', \n",
    "            32:'End speed + passing limits', \n",
    "            33:'Turn right ahead', \n",
    "            34:'Turn left ahead', \n",
    "            35:'Ahead only', \n",
    "            36:'Go straight or right', \n",
    "            37:'Go straight or left', \n",
    "            38:'Keep right', \n",
    "            39:'Keep left', \n",
    "            40:'Roundabout mandatory', \n",
    "            41:'End of no passing', \n",
    "            42:'End no passing veh > 3.5 tons' }"
   ]
  },
  {
   "cell_type": "code",
   "execution_count": 28,
   "id": "17226dac-a46b-4d27-a436-8380d721a568",
   "metadata": {},
   "outputs": [],
   "source": [
    "from PIL import Image\n",
    "import numpy as np\n",
    "import matplotlib.pyplot as plt\n",
    "def test_on_img(img):\n",
    "    data=[]\n",
    "    image = Image.open(img)\n",
    "    image = image.resize((30,30))\n",
    "    data.append(np.array(image))\n",
    "    X_test=np.array(data)\n",
    "    Y_pred = model.predict_classes(X_test)\n",
    "    return image,Y_pred"
   ]
  },
  {
   "cell_type": "code",
   "execution_count": 30,
   "id": "af95e933-06cf-474f-9759-b6dcf703974a",
   "metadata": {},
   "outputs": [
    {
     "name": "stderr",
     "output_type": "stream",
     "text": [
      "/home/ritesh/anaconda3/lib/python3.7/site-packages/tensorflow/python/keras/engine/sequential.py:450: UserWarning: `model.predict_classes()` is deprecated and will be removed after 2021-01-01. Please use instead:* `np.argmax(model.predict(x), axis=-1)`,   if your model does multi-class classification   (e.g. if it uses a `softmax` last-layer activation).* `(model.predict(x) > 0.5).astype(\"int32\")`,   if your model does binary classification   (e.g. if it uses a `sigmoid` last-layer activation).\n",
      "  warnings.warn('`model.predict_classes()` is deprecated and '\n"
     ]
    },
    {
     "name": "stdout",
     "output_type": "stream",
     "text": [
      "Predicted traffic sign is:  Speed limit (30km/h)\n"
     ]
    },
    {
     "data": {
      "image/png": "[encoded data removed]",
      "text/plain": [
       "<Figure size 432x288 with 1 Axes>"
      ]
     },
     "metadata": {
      "needs_background": "light"
     },
     "output_type": "display_data"
    }
   ],
   "source": [
    "plot,prediction = test_on_img(\"/home/ritesh/Documents/Computer_Vision/Test/00001.png\")\n",
    "s = [str(i) for i in prediction] \n",
    "a = int(\"\".join(s)) \n",
    "print(\"Predicted traffic sign is: \", classes[a])\n",
    "plt.imshow(plot)\n",
    "plt.show()"
   ]
  }
 ],
 "metadata": {
  "kernelspec": {
   "display_name": "Python 3",
   "language": "python",
   "name": "python3"
  },
  "language_info": {
   "codemirror_mode": {
    "name": "ipython",
    "version": 3
   },
   "file_extension": ".py",
   "mimetype": "text/x-python",
   "name": "python",
   "nbconvert_exporter": "python",
   "pygments_lexer": "ipython3",
   "version": "3.7.10"
  },
  "toc-autonumbering": true
 },
 "nbformat": 4,
 "nbformat_minor": 5
}
